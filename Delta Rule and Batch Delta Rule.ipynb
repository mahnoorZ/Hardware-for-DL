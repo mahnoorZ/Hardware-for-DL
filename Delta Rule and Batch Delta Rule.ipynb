{
  "nbformat": 4,
  "nbformat_minor": 0,
  "metadata": {
    "colab": {
      "provenance": []
    },
    "kernelspec": {
      "name": "python3",
      "display_name": "Python 3"
    },
    "language_info": {
      "name": "python"
    },
    "accelerator": "GPU",
    "gpuClass": "standard"
  },
  "cells": [
    {
      "cell_type": "markdown",
      "source": [
        "## **Lab 1:  Delta Rule and Batch Delta Rule**\n",
        "\n",
        "## Code"
      ],
      "metadata": {
        "id": "7XBopbau0G9-"
      }
    },
    {
      "cell_type": "code",
      "source": [
        "import numpy as np\n",
        "import torch\n",
        "from torch.utils.data import Dataset, DataLoader\n",
        "import matplotlib.pyplot as plt\n",
        "\n",
        "\n",
        "class train_data(Dataset):\n",
        "    def __init__(self, input, target, learning_rate):\n",
        "        self.input = input\n",
        "        self.target = target\n",
        "        self.learning_rate = learning_rate\n",
        "\n",
        "    def __len__(self):\n",
        "        return len(self.input)\n",
        "\n",
        "    def __getitem__(self, index):\n",
        "        return self.input[index], self.target[index], self.learning_rate[index]\n",
        "\n",
        "\n",
        "class test_data(Dataset):\n",
        "    def __init__(self, input, w_vector):\n",
        "        self.input = input\n",
        "        self.w_vector = w_vector\n",
        "\n",
        "    def __len__(self):\n",
        "        return len(self.w_vector)\n",
        "\n",
        "    def __getitem__(self, index):\n",
        "        return self.input[index], self.w_vector[index]\n",
        "\n",
        "\n",
        "def eval_loss(model):\n",
        "    loss = torch.tensor([])\n",
        "    for data, target in test_dataset:\n",
        "        y_predict = model @ data.t()\n",
        "        loss = torch.cat((loss, (target - y_predict) ** 2), dim=0)\n",
        "\n",
        "    return np.array(sum(loss)).tolist()\n",
        "\n",
        "\n",
        "def delta_rule(model):\n",
        "    test_loss = []\n",
        "    for data, target, l_rate in train_dataset1:\n",
        "        y_predict = model @ data.t()\n",
        "        diffrnc = y_predict - target\n",
        "        model = model - (l_rate * diffrnc * data)\n",
        "        test_loss.append(eval_loss(model))\n",
        "\n",
        "    return test_loss\n",
        "\n",
        "\n",
        "def batch_delta_rule(model):\n",
        "    test_loss = []\n",
        "    epoch = 0\n",
        "    while epoch < 10:\n",
        "        for data, target, l_rate in train_dataset2:\n",
        "            delta_w = torch.tensor([0, 0, 0])\n",
        "            for i in range(3):\n",
        "                y_predict = model @ data[i].t()\n",
        "                diffrnc = y_predict - target[i]\n",
        "                delta_w1 = l_rate * diffrnc * data[i]\n",
        "                delta_w = delta_w + delta_w1\n",
        "\n",
        "            model = model - delta_w\n",
        "        test_loss.append(eval_loss(model))\n",
        "        epoch += 1\n",
        "\n",
        "    return test_loss\n",
        "\n",
        "\n",
        "if __name__ == '__main__':\n",
        "    d = torch.tensor([[5, 2, 4], [3, 3, 3], [0, 5, 1],\n",
        "                      [2, 1, 2], [1, 0, 5], [4, 2, 1],\n",
        "                      [6, 1, 1], [2, 3, 4], [7, 3, 0],\n",
        "                      [4, 4, 2], [1, 5, 7], [5, 1, 3]], dtype=torch.float)\n",
        "    t = torch.Tensor([1250, 900, 350, 550, 650, 800, 1050, 850, 1200, 1000, 1100, 1100])\n",
        "    l_rate = torch.Tensor([1 / 70, 1 / 12, 1 / 27, 2 / 20])\n",
        "    l_rate1 = torch.full((12,), 0.01)\n",
        "\n",
        "    train_dataset1 = DataLoader(train_data(d[:4, :], t[:4], l_rate), batch_size=1, shuffle=False)\n",
        "    train_dataset2 = DataLoader(train_data(d, t, l_rate1), batch_size=3, shuffle=False)\n",
        "\n",
        "    t_d = torch.tensor([[6, 1, 3], [2, 2, 1], [4, 5, 0]], dtype=torch.float)\n",
        "    t_t = torch.Tensor([1250, 500, 850])\n",
        "    test_dataset = DataLoader(test_data(t_d, t_t), batch_size=1, shuffle=False)\n",
        "\n",
        "    model = torch.tensor([[50, 50, 50]], dtype=torch.float)\n",
        "\n",
        "    delta_loss = delta_rule(model)\n",
        "    batch_delta_loss = batch_delta_rule(model)\n",
        "\n",
        "    x = np.linspace(1, 4, len(delta_loss))\n",
        "    plt.plot(x, delta_loss)\n",
        "    plt.scatter(x, delta_loss, s=10, c='blue', edgecolor='blue', alpha=0.5)\n",
        "    plt.title(\"Loss of Delta Rule\")\n",
        "    plt.xlabel('Number of iterations')\n",
        "    plt.ylabel('Loss')\n",
        "\n",
        "    plt.show()\n",
        "\n",
        "    x1 = np.linspace(1, 10, len(batch_delta_loss))\n",
        "    plt.plot(x1, batch_delta_loss, label='Batch Delta Loss')\n",
        "    plt.scatter(x1, batch_delta_loss, s=10, c='blue', edgecolor='blue', alpha=0.5)\n",
        "    plt.title(\"Loss of Batch Delta Rule\")\n",
        "    plt.xlabel('Number of epochs')\n",
        "    plt.ylabel('Loss')\n",
        "\n",
        "    plt.show()\n"
      ],
      "metadata": {
        "id": "ueKsMf7f3IVQ",
        "outputId": "55bfdbdc-db3d-403a-ef73-c87d7e555098",
        "colab": {
          "base_uri": "https://localhost:8080/",
          "height": 573
        }
      },
      "execution_count": null,
      "outputs": [
        {
          "output_type": "display_data",
          "data": {
            "text/plain": [
              "<Figure size 432x288 with 1 Axes>"
            ],
            "image/png": "[encoded data removed]"
          },
          "metadata": {
            "needs_background": "light"
          }
        },
        {
          "output_type": "display_data",
          "data": {
            "text/plain": [
              "<Figure size 432x288 with 1 Axes>"
            ],
            "image/png": "[encoded data removed]"
          },
          "metadata": {
            "needs_background": "light"
          }
        }
      ]
    },
    {
      "cell_type": "markdown",
      "source": [
        "# **Coding Process:**\n",
        "\n",
        "1. As a first step, two seperate classes are constructed, one for the training data and the other for the test data. \n",
        "\n",
        "2. In, both delta rule and batch delta rule, I tried to implement the equations in vector/matrix notation, Hence instead of writing the whole of the equation; $x_{0} \\times w_{0} + x_{1}\\times w_{1} + x_{2} \\times w_{2} + x_{3} \\times w_{3}$; I find it more compact and efficient to write it in vector notation and then multiply them using the simple command of matrix multiplication which is explained in equation below. \n",
        "\n",
        "\\begin{align}\n",
        "    data &= \\begin{bmatrix}\n",
        "           x_{0}\\\\\n",
        "           x_{1} \\\\\n",
        "           x_{2} \\\\\n",
        "           x_{3}\n",
        "         \\end{bmatrix} \\ \\ , \\ \\ \n",
        "         W = \\begin{bmatrix}\n",
        "           w_{0}\\\\\n",
        "           w_{1} \\\\\n",
        "           w_{2} \\\\\n",
        "           w_{3}\n",
        "         \\end{bmatrix}\n",
        "  \\end{align}\n",
        "So,\n",
        "\n",
        "\\begin{align}\n",
        "    W × data^T = x_{0} \\times w_{0} + x_{1}\\times w_{1} + x_{2} \\times w_{2} + x_{3} \\times w_{3}\n",
        "  \\end{align}\n",
        "\n",
        "3. I decided to go with the seperate evaluation function that calculates the loss on the test data after each iteration in delta rule and each epoch in batch delta rule. \n",
        "\n",
        "4. Being a beginner, it took me a while to understand that there is difference between numpy array and tensor array and in Deep Learning it is more convenient to use the Tensor arrays\n",
        "\n",
        "\n",
        "# **Thoughts and Findings**\n",
        "Batch delta rule requires computing the gradients for the entire training dataset before updating the model parameters, while delta rule updates the model parameters after each training example. \n",
        "\n",
        "1. Batch delta rule is more computationally expensive than delta rule, but it converges faster. \n",
        "\n",
        "2. Batch delta rule may get stuck in a local minimum, whereas delta rule may be able to escape local minima by updating the model parameters more frequently.\n",
        "\n",
        "3. Batch delta rule is less sensitive to noise in the training data\n"
      ],
      "metadata": {
        "id": "cU-l0Ow8RZaz"
      }
    }
  ]
}
